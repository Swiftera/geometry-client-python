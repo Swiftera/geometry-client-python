{
 "cells": [
  {
   "cell_type": "code",
   "execution_count": null,
   "metadata": {},
   "outputs": [],
   "source": [
    "%matplotlib inline\n",
    "import matplotlib.pyplot as plt\n",
    "import epl.geometry\n",
    "import cartopy\n",
    "import requests\n",
    "\n",
    "# grab the Great Britain outline from a geojson hosted on github\n",
    "r = requests.get(\"https://raw.githubusercontent.com/johan/world.geo.json/master/countries/GBR.geo.json\")\n",
    "gbr_shape = epl.geometry.shape(r.json()['features'][0]['geometry'], wkid=4326)\n",
    "\n",
    "# Lets load up the Albers Equal Area projection.\n",
    "lonlat_crs = cartopy.crs.PlateCarree()\n",
    "albers = cartopy.crs.AlbersEqualArea(central_longitude=gbr_shape.centroid.x, central_latitude=gbr_shape.centroid.y)\n",
    "\n",
    "fig = plt.figure(figsize=(6, 12))\n",
    "ax = plt.subplot(projection=albers) # Specify projection of the map here\n",
    "\n",
    "# When adding a geometry in latlon coordinates, specify the latlon geographic coordinate system\n",
    "ax.add_geometries([gbr_shape.carto_geom], lonlat_crs)\n",
    "\n",
    "# You can set extents in latlon, as long as you specify the projection with `crs`\n",
    "ax.set_extent(gbr_shape.carto_bounds, crs=lonlat_crs)\n",
    "ax.gridlines(crs=lonlat_crs)\n",
    "plt.show()"
   ]
  },
  {
   "cell_type": "code",
   "execution_count": null,
   "metadata": {},
   "outputs": [],
   "source": [
    "fig = plt.figure(figsize=(6, 12))\n",
    "ax = plt.subplot(projection=albers) # Specify projection of the map here\n",
    "\n",
    "forty_km = 40000\n",
    "buffered_gbr = gbr_shape.buffer(forty_km)\n",
    "# When adding a geometry in latlon coordinates, specify the latlon geographic coordinate system\n",
    "ax.add_geometries([buffered_gbr.carto_geom], lonlat_crs, alpha=0.3, color='green')\n",
    "ax.add_geometries([gbr_shape.carto_geom], lonlat_crs, alpha=0.3, color='blue')\n",
    "\n",
    "ax.set_extent(buffered_gbr.carto_bounds, crs=lonlat_crs)\n",
    "ax.gridlines(crs=lonlat_crs)\n",
    "plt.show()"
   ]
  },
  {
   "cell_type": "code",
   "execution_count": null,
   "metadata": {},
   "outputs": [],
   "source": [
    "fig = plt.figure(figsize=(6, 12))\n",
    "ax = plt.subplot(projection=albers) # Specify projection of the map here\n",
    "\n",
    "convex_gbr = gbr_shape.convex()\n",
    "# When adding a geometry in latlon coordinates, specify the latlon geographic coordinate system\n",
    "\n",
    "ax.add_geometries([convex_gbr.carto_geom], lonlat_crs, alpha=0.3, color='green')\n",
    "ax.add_geometries([gbr_shape.carto_geom], lonlat_crs, alpha=0.3, color='blue')\n",
    "\n",
    "\n",
    "ax.set_extent(convex_gbr.carto_bounds, crs=lonlat_crs)\n",
    "ax.gridlines(crs=lonlat_crs)\n",
    "plt.show()"
   ]
  },
  {
   "cell_type": "code",
   "execution_count": null,
   "metadata": {},
   "outputs": [],
   "source": [
    "# grab the Chilean outline from a geojson hosted on github\n",
    "r = requests.get(\"https://raw.githubusercontent.com/johan/world.geo.json/master/countries/CHL.geo.json\")\n",
    "chl_shape = epl.geometry.shape(r.json()['features'][0]['geometry'], wkid=4326)\n",
    "\n",
    "# Lets load up the Albers Equal Area projection.\n",
    "lonlat_crs = cartopy.crs.PlateCarree()\n",
    "web_merc = cartopy.crs.epsg(3857)\n",
    "\n",
    "fig = plt.figure(figsize=(12, 12))\n",
    "ax = plt.subplot(projection=web_merc) # Specify projection of the map here\n",
    "\n",
    "geodetic_buffer = chl_shape.buffer(200000)\n",
    "# When adding a geometry in latlon coordinates, specify the latlon geographic coordinate system\n",
    "ax.add_geometries([geodetic_buffer.carto_geom], lonlat_crs, alpha=0.3, color='green')\n",
    "ax.add_geometries([chl_shape.carto_geom], lonlat_crs, alpha=0.3, color='blue')\n",
    "\n",
    "# You can set extents in latlon, as long as you specify the projection with `crs`\n",
    "ax.set_extent(geodetic_buffer.carto_bounds, crs=lonlat_crs)\n",
    "ax.gridlines(crs=lonlat_crs)\n",
    "plt.show()"
   ]
  },
  {
   "cell_type": "code",
   "execution_count": null,
   "metadata": {},
   "outputs": [],
   "source": [
    "fig = plt.figure(figsize=(12, 12))\n",
    "ax = plt.subplot(projection=web_merc) # Specify projection of the map here\n",
    "\n",
    "# When adding a geometry in latlon coordinates, specify the latlon geographic coordinate system\n",
    "degrees_buffer = chl_shape.s_buffer(2)\n",
    "ax.add_geometries([degrees_buffer.carto_geom], lonlat_crs, alpha=0.3, color='green')\n",
    "ax.add_geometries([chl_shape.carto_geom], lonlat_crs, alpha=0.3, color='blue')\n",
    "\n",
    "# You can set extents in latlon, as long as you specify the projection with `crs`\n",
    "ax.set_extent(geodetic_buffer.carto_bounds, crs=lonlat_crs)\n",
    "ax.gridlines(crs=lonlat_crs)\n",
    "plt.show()"
   ]
  },
  {
   "cell_type": "code",
   "execution_count": null,
   "metadata": {},
   "outputs": [],
   "source": [
    "print(\"square degrees (?) {}\".format(chl_shape.area(geodetic=False)))\n",
    "print(\"square degrees (?) {}\".format(degrees_buffer.area(geodetic=False)))\n",
    "print(\"square degrees (?) {}\".format(geodetic_buffer.area(geodetic=False)))\n",
    "\n",
    "print(\"square kilometers {}\".format(chl_shape.area() / (1000**2)))\n",
    "print(\"square kilometers {}\".format(degrees_buffer.area() / (1000**2)))\n",
    "print(\"square kilometers {}\".format(geodetic_buffer.area() / (1000**2)))"
   ]
  }
 ],
 "metadata": {
  "kernelspec": {
   "display_name": "geometry-client-python",
   "language": "python",
   "name": "geometry-client-python"
  },
  "language_info": {
   "codemirror_mode": {
    "name": "ipython",
    "version": 3
   },
   "file_extension": ".py",
   "mimetype": "text/x-python",
   "name": "python",
   "nbconvert_exporter": "python",
   "pygments_lexer": "ipython3",
   "version": "3.7.3"
  }
 },
 "nbformat": 4,
 "nbformat_minor": 2
}
